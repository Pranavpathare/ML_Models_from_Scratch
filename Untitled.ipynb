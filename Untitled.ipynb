{
 "cells": [
  {
   "cell_type": "markdown",
   "metadata": {},
   "source": [
    "# Principal Component Analysis"
   ]
  },
  {
   "cell_type": "markdown",
   "metadata": {},
   "source": [
    "- Principal Component Analysis, or PCA, is a dimensionality-reduction method that is often used to reduce the dimensionality of large data sets, by transforming a large set of variables into a smaller one that still contains most of the information in the large set."
   ]
  },
  {
   "cell_type": "markdown",
   "metadata": {},
   "source": [
    "- Take the whole dataset consisting of d-dimensional samples ignoring the class labels\n",
    "- Compute the d-dimensional mean vector (i.e., the means for every dimension of the whole dataset)\n",
    "- Compute the scatter matrix (alternatively, the covariance matrix) of the whole data set\n",
    "- Compute eigenvectors (ee1,ee2,...,eed) and corresponding eigenvalues (λλ1,λλ2,...,λλd)\n",
    "- Sort the eigenvectors by decreasing eigenvalues and choose k eigenvectors with the largest eigenvalues to form a d×k        dimensional matrix WW(where every column represents an eigenvector)\n",
    "- Use this d×k eigenvector matrix to transform the samples onto the new subspace. This can be summarized by the mathematical - - equation: yy=WWT×xx (where xx is a d×1-dimensional vector representing one sample, and yy is the transformed k×1-dimensional - sample in the new subspace.)"
   ]
  },
  {
   "cell_type": "code",
   "execution_count": 57,
   "metadata": {},
   "outputs": [],
   "source": [
    "# Imports\n",
    "\n",
    "import numpy as np\n",
    "import pandas as pd\n",
    "from sklearn.utils import shuffle\n",
    "import matplotlib.pyplot as plt"
   ]
  },
  {
   "cell_type": "raw",
   "metadata": {},
   "source": [
    "PCA reorganizes X so that the dimensions with highest information content are to the left and the components with the lowest information are to the right\n",
    "We waant maximum variance along all our chosen components\n",
    "Currently the covariance matrix of X shows us that every component is correlated with every other component in some way which we do not want.\n",
    "We hence compute a transformation matrix such that we have a new X with every column being completely uncorrelated with the others.\n",
    "The new X will also have information stored in decreasing order from right to left\n",
    "We can select enough columns for our model which help us achieve 95-99% Variance of the data and we can discard all the columns.\n",
    "For visualization we can choose the top 3 or 2 rows and plot their information gain."
   ]
  },
  {
   "cell_type": "code",
   "execution_count": 50,
   "metadata": {},
   "outputs": [],
   "source": [
    "def pca(X,y):\n",
    "    \n",
    "    # Calculate Covariance matrix of X\n",
    "    covar_X = np.cov(X.T)  \n",
    "    # Calculate Eigen Values and Eigen Vectors of the covariance matrix X\n",
    "    eigval,eigvec = np.linalg.eigh(covar_X)\n",
    "    \n",
    "    # We sort the eigen values and corresponding eigen vectors in descending order\n",
    "    \n",
    "    idx = np.argsort(-eigval)  \n",
    "    eigval = eigval[idx]\n",
    "    eigval = np.maximum(eigval,0)\n",
    "    eigvec = eigvec[:,idx]\n",
    "    \n",
    "    # Compute the linear transformation Matrix of X with the Sorted Information and decorrelated data\n",
    "    Z = X.dot(eigvec)\n",
    "    \n",
    "    # PLot the first two highest information components\n",
    "    plt.scatter(Z[:,0], Z[:,1], s = 100,c = y, alpha = 0.3)\n",
    "    plt.xlabel(\"First Highest Information Component\")\n",
    "    plt.ylabel(\"Second Highest Information Content\")\n",
    "    plt.show()\n",
    "    \n",
    "    # Eigen Values of the transformed Matrix\n",
    "    plt.plot(eigval)\n",
    "    plt.title(\"Variance of each component\")\n",
    "    plt.show()\n",
    "    \n",
    "    # Cumulated sum of Eigen Values\n",
    "    plt.plot(np.cumsum(eigval))\n",
    "    plt.title(\"Cumulative variance\")\n",
    "    plt.show()  "
   ]
  },
  {
   "cell_type": "markdown",
   "metadata": {},
   "source": []
  },
  {
   "cell_type": "code",
   "execution_count": null,
   "metadata": {},
   "outputs": [],
   "source": []
  },
  {
   "cell_type": "code",
   "execution_count": null,
   "metadata": {},
   "outputs": [],
   "source": []
  }
 ],
 "metadata": {
  "kernelspec": {
   "display_name": "Python 3",
   "language": "python",
   "name": "python3"
  },
  "language_info": {
   "codemirror_mode": {
    "name": "ipython",
    "version": 3
   },
   "file_extension": ".py",
   "mimetype": "text/x-python",
   "name": "python",
   "nbconvert_exporter": "python",
   "pygments_lexer": "ipython3",
   "version": "3.7.1"
  }
 },
 "nbformat": 4,
 "nbformat_minor": 2
}
