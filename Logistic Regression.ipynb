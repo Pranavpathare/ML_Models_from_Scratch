{
 "cells": [
  {
   "cell_type": "markdown",
   "metadata": {},
   "source": [
    "# Logistic Regression"
   ]
  },
  {
   "cell_type": "markdown",
   "metadata": {},
   "source": [
    "Logistic regression is the appropriate regression analysis to conduct when the dependent variable is dichotomous (binary).  Like all regression analyses, the logistic regression is a predictive analysis.  Logistic regression is used to describe data and to explain the relationship between one dependent binary variable and one or more nominal, ordinal, interval or ratio-level independent variables."
   ]
  },
  {
   "cell_type": "code",
   "execution_count": 1,
   "metadata": {},
   "outputs": [],
   "source": [
    "# Imports\n",
    "import numpy as np\n",
    "import random\n",
    "import sklearn"
   ]
  },
  {
   "cell_type": "code",
   "execution_count": 2,
   "metadata": {},
   "outputs": [],
   "source": [
    "# Importing the train_test_splitter and the evaluation metrics\n",
    "from sklearn.model_selection import train_test_split\n",
    "from sklearn.metrics import accuracy_score,confusion_matrix,classification_report "
   ]
  },
  {
   "cell_type": "markdown",
   "metadata": {},
   "source": [
    " "
   ]
  },
  {
   "cell_type": "code",
   "execution_count": 3,
   "metadata": {},
   "outputs": [],
   "source": [
    "# Input X should be in the form of a 2d array\n",
    "# The way scikit learn implements it\n",
    "# X = [[a,b],\n",
    "#      [c,d]]\n",
    "# y and targets must in the format of a one dimensional array of binary values here"
   ]
  },
  {
   "cell_type": "markdown",
   "metadata": {},
   "source": [
    " "
   ]
  },
  {
   "cell_type": "markdown",
   "metadata": {},
   "source": [
    "<img src=\"neuron.png\">"
   ]
  },
  {
   "cell_type": "markdown",
   "metadata": {},
   "source": [
    "______________________________________________________________________________________________________________________"
   ]
  },
  {
   "cell_type": "markdown",
   "metadata": {},
   "source": [
    "<img src=\"cross_entropy.png\">"
   ]
  },
  {
   "cell_type": "code",
   "execution_count": 4,
   "metadata": {},
   "outputs": [],
   "source": [
    "# Without Validation check\n",
    "class LogisticRegression:\n",
    "    def __init__(self, lr=0.0001, num_iters=100000):\n",
    "        self.lr = lr\n",
    "        self.num_iters = num_iters\n",
    "    \n",
    "    def __add_ones(self, X):\n",
    "        ones = np.ones((X.shape[0], 1))\n",
    "        return np.concatenate((ones, X), axis=1)\n",
    "    \n",
    "    def __sigmoid(self, z):\n",
    "        return 1 / (1 + np.exp(-z))\n",
    "    \n",
    "    def __cross_entropy(self, t, y):\n",
    "        return (-y * np.log(t) - (1 - y) * np.log(1 - t)).mean()\n",
    "    \n",
    "    def fit(self, X, y):\n",
    "\n",
    "        X = self.__add_ones(X)\n",
    "        \n",
    "        # weights initialization\n",
    "        self.W = np.random.randn(X.shape[1])\n",
    "        \n",
    "        for _ in range(self.num_iters):\n",
    "            z = np.dot(X, self.W)\n",
    "            t = self.__sigmoid(z)\n",
    "            grad = np.dot(X.T, (t - y))\n",
    "            self.W -= self.lr * grad\n",
    "            \n",
    "            if _%10000 == 0:\n",
    "                print('Loss: ',self.__cross_entropy(t, y))\n",
    "    \n",
    "    def __prob(self, X):\n",
    "        X = self.__add_ones(X)\n",
    "        return self.__sigmoid(np.dot(X, self.W))\n",
    "    \n",
    "    def predict(self, X):\n",
    "        return np.round(self.__prob(X))"
   ]
  },
  {
   "cell_type": "markdown",
   "metadata": {},
   "source": [
    " "
   ]
  },
  {
   "cell_type": "markdown",
   "metadata": {},
   "source": [
    " "
   ]
  },
  {
   "cell_type": "markdown",
   "metadata": {},
   "source": [
    " "
   ]
  }
 ],
 "metadata": {
  "kernelspec": {
   "display_name": "Python 3",
   "language": "python",
   "name": "python3"
  },
  "language_info": {
   "codemirror_mode": {
    "name": "ipython",
    "version": 3
   },
   "file_extension": ".py",
   "mimetype": "text/x-python",
   "name": "python",
   "nbconvert_exporter": "python",
   "pygments_lexer": "ipython3",
   "version": "3.7.4"
  }
 },
 "nbformat": 4,
 "nbformat_minor": 2
}
